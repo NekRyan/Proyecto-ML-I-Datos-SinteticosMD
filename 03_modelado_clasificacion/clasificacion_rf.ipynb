{
 "cells": [
  {
   "cell_type": "code",
   "execution_count": 1,
   "id": "44416eb3",
   "metadata": {},
   "outputs": [
    {
     "name": "stdout",
     "output_type": "stream",
     "text": [
      "Accuracy: 0.995\n",
      "Matriz de Confusión:\n",
      " [[114   0]\n",
      " [  1  85]]\n",
      "Reporte:\n",
      "               precision    recall  f1-score   support\n",
      "\n",
      "           0       0.99      1.00      1.00       114\n",
      "           1       1.00      0.99      0.99        86\n",
      "\n",
      "    accuracy                           0.99       200\n",
      "   macro avg       1.00      0.99      0.99       200\n",
      "weighted avg       1.00      0.99      0.99       200\n",
      "\n",
      "Validación cruzada: 0.9930 ± 0.0068\n"
     ]
    },
    {
     "data": {
      "text/plain": [
       "['../03_modelado_clasificacion/modelo_clasificado_random_forest.pkl']"
      ]
     },
     "execution_count": 1,
     "metadata": {},
     "output_type": "execute_result"
    }
   ],
   "source": [
    "import pandas as pd\n",
    "import joblib\n",
    "from sklearn.ensemble import RandomForestClassifier\n",
    "from sklearn.model_selection import train_test_split, cross_val_score\n",
    "from sklearn.preprocessing import OneHotEncoder\n",
    "from sklearn.pipeline import Pipeline\n",
    "from sklearn.compose import ColumnTransformer\n",
    "from sklearn.metrics import classification_report, confusion_matrix, accuracy_score\n",
    "\n",
    "# 1. Cargar datos\n",
    "df = pd.read_csv(\"../01_generacion_datos/clientes_sinteticos.csv\")\n",
    "\n",
    "# 2. Variables\n",
    "X = df.drop(columns=[\"cliente_id\", \"contrató_servicio\", \"monto_ventas_futuras\"])\n",
    "y = df[\"contrató_servicio\"]\n",
    "\n",
    "cat_cols = X.select_dtypes(include=\"object\").columns.tolist()\n",
    "num_cols = X.select_dtypes(exclude=\"object\").columns.tolist()\n",
    "\n",
    "# 3. Preprocesamiento\n",
    "preprocesador = ColumnTransformer([\n",
    "    (\"onehot\", OneHotEncoder(handle_unknown=\"ignore\"), cat_cols)\n",
    "], remainder=\"passthrough\")\n",
    "\n",
    "# 4. Modelo\n",
    "modelo_rf = Pipeline([\n",
    "    (\"pre\", preprocesador),\n",
    "    (\"clf\", RandomForestClassifier(n_estimators=100, random_state=42))\n",
    "])\n",
    "\n",
    "# 5. Train/test split\n",
    "X_train, X_test, y_train, y_test = train_test_split(X, y, test_size=0.2, random_state=42)\n",
    "\n",
    "# 6. Entrenar\n",
    "modelo_rf.fit(X_train, y_train)\n",
    "y_pred = modelo_rf.predict(X_test)\n",
    "\n",
    "# 7. Evaluar\n",
    "print(\"Accuracy:\", accuracy_score(y_test, y_pred))\n",
    "print(\"Matriz de Confusión:\\n\", confusion_matrix(y_test, y_pred))\n",
    "print(\"Reporte:\\n\", classification_report(y_test, y_pred))\n",
    "\n",
    "# 8. Validación cruzada\n",
    "scores = cross_val_score(modelo_rf, X, y, cv=5)\n",
    "print(f\"Validación cruzada: {scores.mean():.4f} ± {scores.std():.4f}\")\n",
    "\n",
    "# 9. Guardar modelo\n",
    "joblib.dump(modelo_rf, \"../03_modelado_clasificacion/modelo_clasificado_random_forest.pkl\")"
   ]
  }
 ],
 "metadata": {
  "kernelspec": {
   "display_name": "venv_Proyecto-ML-I-Datos-SinteticosMD",
   "language": "python",
   "name": "python3"
  },
  "language_info": {
   "codemirror_mode": {
    "name": "ipython",
    "version": 3
   },
   "file_extension": ".py",
   "mimetype": "text/x-python",
   "name": "python",
   "nbconvert_exporter": "python",
   "pygments_lexer": "ipython3",
   "version": "3.13.1"
  }
 },
 "nbformat": 4,
 "nbformat_minor": 5
}
